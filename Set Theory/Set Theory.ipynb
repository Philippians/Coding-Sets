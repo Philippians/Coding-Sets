{
 "cells": [
  {
   "cell_type": "markdown",
   "metadata": {},
   "source": [
    "# CODING ACTIVITY: Set Theory"
   ]
  },
  {
   "cell_type": "markdown",
   "metadata": {},
   "source": [
    "##### PIONELO, Philip Julrenz A."
   ]
  },
  {
   "cell_type": "code",
   "execution_count": 1,
   "metadata": {},
   "outputs": [],
   "source": [
    "# Some songs that I like\n",
    "opm_songs = [\"Tagpuan\", \"Buwan\", \"Tadhana\", \"Vivid\", \"Ligaya\", \"Teka Lang\"]\n",
    "pop_songs = [\"Tagpuan\", \"Buwan\", \"Tadhana\", \"Blinding Lights\", \"At My Worst\", \"Watermelon Sugar\"]"
   ]
  },
  {
   "cell_type": "code",
   "execution_count": 2,
   "metadata": {},
   "outputs": [],
   "source": [
    "opm = set(opm_songs)\n",
    "pop = set(pop_songs)"
   ]
  },
  {
   "cell_type": "markdown",
   "metadata": {},
   "source": [
    "### Inner Join"
   ]
  },
  {
   "cell_type": "code",
   "execution_count": 3,
   "metadata": {},
   "outputs": [
    {
     "data": {
      "text/plain": [
       "{'Buwan', 'Tadhana', 'Tagpuan'}"
      ]
     },
     "execution_count": 3,
     "metadata": {},
     "output_type": "execute_result"
    }
   ],
   "source": [
    "# Common songs in opm and pop sets\n",
    "common = opm.intersection(pop)\n",
    "common"
   ]
  },
  {
   "cell_type": "markdown",
   "metadata": {},
   "source": [
    "### Left Join"
   ]
  },
  {
   "cell_type": "code",
   "execution_count": 4,
   "metadata": {},
   "outputs": [
    {
     "data": {
      "text/plain": [
       "{'Buwan', 'Ligaya', 'Tadhana', 'Tagpuan', 'Teka Lang', 'Vivid'}"
      ]
     },
     "execution_count": 4,
     "metadata": {},
     "output_type": "execute_result"
    }
   ],
   "source": [
    "# opm songs only\n",
    "opm_ljoin = common.union(opm)\n",
    "opm_ljoin"
   ]
  },
  {
   "cell_type": "markdown",
   "metadata": {},
   "source": [
    "### Right Join"
   ]
  },
  {
   "cell_type": "code",
   "execution_count": 13,
   "metadata": {},
   "outputs": [
    {
     "data": {
      "text/plain": [
       "{'At My Worst',\n",
       " 'Blinding Lights',\n",
       " 'Buwan',\n",
       " 'Tadhana',\n",
       " 'Tagpuan',\n",
       " 'Watermelon Sugar'}"
      ]
     },
     "execution_count": 13,
     "metadata": {},
     "output_type": "execute_result"
    }
   ],
   "source": [
    "# pop songs only\n",
    "pop_rjoin = common.union(pop)\n",
    "pop_rjoin"
   ]
  },
  {
   "cell_type": "markdown",
   "metadata": {},
   "source": [
    "### Left Exclusive Join"
   ]
  },
  {
   "cell_type": "code",
   "execution_count": 14,
   "metadata": {},
   "outputs": [
    {
     "data": {
      "text/plain": [
       "{'Ligaya', 'Teka Lang', 'Vivid'}"
      ]
     },
     "execution_count": 14,
     "metadata": {},
     "output_type": "execute_result"
    }
   ],
   "source": [
    "# opm songs without pop songs only\n",
    "opm_exljoin = opm.difference(pop)\n",
    "opm_exljoin"
   ]
  },
  {
   "cell_type": "markdown",
   "metadata": {},
   "source": [
    "### Right Exclusive Join"
   ]
  },
  {
   "cell_type": "code",
   "execution_count": 10,
   "metadata": {},
   "outputs": [
    {
     "data": {
      "text/plain": [
       "{'At My Worst', 'Blinding Lights', 'Watermelon Sugar'}"
      ]
     },
     "execution_count": 10,
     "metadata": {},
     "output_type": "execute_result"
    }
   ],
   "source": [
    "# pop songs without opm songs only\n",
    "pop_exrjoin = pop.difference(opm)\n",
    "pop_exrjoin"
   ]
  },
  {
   "cell_type": "markdown",
   "metadata": {},
   "source": [
    "### Full Outer Join"
   ]
  },
  {
   "cell_type": "code",
   "execution_count": 11,
   "metadata": {},
   "outputs": [
    {
     "data": {
      "text/plain": [
       "{'At My Worst',\n",
       " 'Blinding Lights',\n",
       " 'Buwan',\n",
       " 'Ligaya',\n",
       " 'Tadhana',\n",
       " 'Tagpuan',\n",
       " 'Teka Lang',\n",
       " 'Vivid',\n",
       " 'Watermelon Sugar'}"
      ]
     },
     "execution_count": 11,
     "metadata": {},
     "output_type": "execute_result"
    }
   ],
   "source": [
    "# Union of some opm and pop songs that I like\n",
    "full_outer = opm.union(pop)\n",
    "full_outer"
   ]
  },
  {
   "cell_type": "markdown",
   "metadata": {},
   "source": [
    "### Full Outer Exclusive Join"
   ]
  },
  {
   "cell_type": "code",
   "execution_count": 15,
   "metadata": {},
   "outputs": [
    {
     "data": {
      "text/plain": [
       "{'At My Worst',\n",
       " 'Blinding Lights',\n",
       " 'Ligaya',\n",
       " 'Teka Lang',\n",
       " 'Vivid',\n",
       " 'Watermelon Sugar'}"
      ]
     },
     "execution_count": 15,
     "metadata": {},
     "output_type": "execute_result"
    }
   ],
   "source": [
    "# pop and opm songs that I like without having the same genre\n",
    "full_xouter = (opm.difference(pop)).union(pop.difference(opm))\n",
    "full_xouter"
   ]
  },
  {
   "cell_type": "code",
   "execution_count": null,
   "metadata": {},
   "outputs": [],
   "source": []
  }
 ],
 "metadata": {
  "kernelspec": {
   "display_name": "Python 3",
   "language": "python",
   "name": "python3"
  },
  "language_info": {
   "codemirror_mode": {
    "name": "ipython",
    "version": 3
   },
   "file_extension": ".py",
   "mimetype": "text/x-python",
   "name": "python",
   "nbconvert_exporter": "python",
   "pygments_lexer": "ipython3",
   "version": "3.8.3"
  }
 },
 "nbformat": 4,
 "nbformat_minor": 4
}
